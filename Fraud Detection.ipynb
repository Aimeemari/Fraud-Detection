{
  "cells": [
    {
      "cell_type": "code",
      "execution_count": null,
      "metadata": {
        "colab": {
          "base_uri": "https://localhost:8080/"
        },
        "id": "VY_Es4voasJ4",
        "outputId": "b6f12f50-1e77-4bf8-a7ca-e4632c8ead20"
      },
      "outputs": [
        {
          "name": "stdout",
          "output_type": "stream",
          "text": [
            "Collecting geopandas\n",
            "  Downloading geopandas-0.10.2-py2.py3-none-any.whl (1.0 MB)\n",
            "\u001b[?25l\r\u001b[K     |▎                               | 10 kB 25.0 MB/s eta 0:00:01\r\u001b[K     |▋                               | 20 kB 13.6 MB/s eta 0:00:01\r\u001b[K     |█                               | 30 kB 10.0 MB/s eta 0:00:01\r\u001b[K     |█▎                              | 40 kB 4.7 MB/s eta 0:00:01\r\u001b[K     |█▋                              | 51 kB 4.6 MB/s eta 0:00:01\r\u001b[K     |██                              | 61 kB 5.4 MB/s eta 0:00:01\r\u001b[K     |██▎                             | 71 kB 5.9 MB/s eta 0:00:01\r\u001b[K     |██▌                             | 81 kB 5.6 MB/s eta 0:00:01\r\u001b[K     |██▉                             | 92 kB 6.2 MB/s eta 0:00:01\r\u001b[K     |███▏                            | 102 kB 5.4 MB/s eta 0:00:01\r\u001b[K     |███▌                            | 112 kB 5.4 MB/s eta 0:00:01\r\u001b[K     |███▉                            | 122 kB 5.4 MB/s eta 0:00:01\r\u001b[K     |████▏                           | 133 kB 5.4 MB/s eta 0:00:01\r\u001b[K     |████▌                           | 143 kB 5.4 MB/s eta 0:00:01\r\u001b[K     |████▊                           | 153 kB 5.4 MB/s eta 0:00:01\r\u001b[K     |█████                           | 163 kB 5.4 MB/s eta 0:00:01\r\u001b[K     |█████▍                          | 174 kB 5.4 MB/s eta 0:00:01\r\u001b[K     |█████▊                          | 184 kB 5.4 MB/s eta 0:00:01\r\u001b[K     |██████                          | 194 kB 5.4 MB/s eta 0:00:01\r\u001b[K     |██████▍                         | 204 kB 5.4 MB/s eta 0:00:01\r\u001b[K     |██████▊                         | 215 kB 5.4 MB/s eta 0:00:01\r\u001b[K     |███████                         | 225 kB 5.4 MB/s eta 0:00:01\r\u001b[K     |███████▎                        | 235 kB 5.4 MB/s eta 0:00:01\r\u001b[K     |███████▋                        | 245 kB 5.4 MB/s eta 0:00:01\r\u001b[K     |████████                        | 256 kB 5.4 MB/s eta 0:00:01\r\u001b[K     |████████▎                       | 266 kB 5.4 MB/s eta 0:00:01\r\u001b[K     |████████▋                       | 276 kB 5.4 MB/s eta 0:00:01\r\u001b[K     |█████████                       | 286 kB 5.4 MB/s eta 0:00:01\r\u001b[K     |█████████▏                      | 296 kB 5.4 MB/s eta 0:00:01\r\u001b[K     |█████████▌                      | 307 kB 5.4 MB/s eta 0:00:01\r\u001b[K     |█████████▉                      | 317 kB 5.4 MB/s eta 0:00:01\r\u001b[K     |██████████▏                     | 327 kB 5.4 MB/s eta 0:00:01\r\u001b[K     |██████████▌                     | 337 kB 5.4 MB/s eta 0:00:01\r\u001b[K     |██████████▉                     | 348 kB 5.4 MB/s eta 0:00:01\r\u001b[K     |███████████▏                    | 358 kB 5.4 MB/s eta 0:00:01\r\u001b[K     |███████████▍                    | 368 kB 5.4 MB/s eta 0:00:01\r\u001b[K     |███████████▊                    | 378 kB 5.4 MB/s eta 0:00:01\r\u001b[K     |████████████                    | 389 kB 5.4 MB/s eta 0:00:01\r\u001b[K     |████████████▍                   | 399 kB 5.4 MB/s eta 0:00:01\r\u001b[K     |████████████▊                   | 409 kB 5.4 MB/s eta 0:00:01\r\u001b[K     |█████████████                   | 419 kB 5.4 MB/s eta 0:00:01\r\u001b[K     |█████████████▍                  | 430 kB 5.4 MB/s eta 0:00:01\r\u001b[K     |█████████████▋                  | 440 kB 5.4 MB/s eta 0:00:01\r\u001b[K     |██████████████                  | 450 kB 5.4 MB/s eta 0:00:01\r\u001b[K     |██████████████▎                 | 460 kB 5.4 MB/s eta 0:00:01\r\u001b[K     |██████████████▋                 | 471 kB 5.4 MB/s eta 0:00:01\r\u001b[K     |███████████████                 | 481 kB 5.4 MB/s eta 0:00:01\r\u001b[K     |███████████████▎                | 491 kB 5.4 MB/s eta 0:00:01\r\u001b[K     |███████████████▋                | 501 kB 5.4 MB/s eta 0:00:01\r\u001b[K     |███████████████▉                | 512 kB 5.4 MB/s eta 0:00:01\r\u001b[K     |████████████████▏               | 522 kB 5.4 MB/s eta 0:00:01\r\u001b[K     |████████████████▌               | 532 kB 5.4 MB/s eta 0:00:01\r\u001b[K     |████████████████▉               | 542 kB 5.4 MB/s eta 0:00:01\r\u001b[K     |█████████████████▏              | 552 kB 5.4 MB/s eta 0:00:01\r\u001b[K     |█████████████████▌              | 563 kB 5.4 MB/s eta 0:00:01\r\u001b[K     |█████████████████▉              | 573 kB 5.4 MB/s eta 0:00:01\r\u001b[K     |██████████████████              | 583 kB 5.4 MB/s eta 0:00:01\r\u001b[K     |██████████████████▍             | 593 kB 5.4 MB/s eta 0:00:01\r\u001b[K     |██████████████████▊             | 604 kB 5.4 MB/s eta 0:00:01\r\u001b[K     |███████████████████             | 614 kB 5.4 MB/s eta 0:00:01\r\u001b[K     |███████████████████▍            | 624 kB 5.4 MB/s eta 0:00:01\r\u001b[K     |███████████████████▊            | 634 kB 5.4 MB/s eta 0:00:01\r\u001b[K     |████████████████████            | 645 kB 5.4 MB/s eta 0:00:01\r\u001b[K     |████████████████████▎           | 655 kB 5.4 MB/s eta 0:00:01\r\u001b[K     |████████████████████▋           | 665 kB 5.4 MB/s eta 0:00:01\r\u001b[K     |█████████████████████           | 675 kB 5.4 MB/s eta 0:00:01\r\u001b[K     |█████████████████████▎          | 686 kB 5.4 MB/s eta 0:00:01\r\u001b[K     |█████████████████████▋          | 696 kB 5.4 MB/s eta 0:00:01\r\u001b[K     |██████████████████████          | 706 kB 5.4 MB/s eta 0:00:01\r\u001b[K     |██████████████████████▎         | 716 kB 5.4 MB/s eta 0:00:01\r\u001b[K     |██████████████████████▋         | 727 kB 5.4 MB/s eta 0:00:01\r\u001b[K     |██████████████████████▉         | 737 kB 5.4 MB/s eta 0:00:01\r\u001b[K     |███████████████████████▏        | 747 kB 5.4 MB/s eta 0:00:01\r\u001b[K     |███████████████████████▌        | 757 kB 5.4 MB/s eta 0:00:01\r\u001b[K     |███████████████████████▉        | 768 kB 5.4 MB/s eta 0:00:01\r\u001b[K     |████████████████████████▏       | 778 kB 5.4 MB/s eta 0:00:01\r\u001b[K     |████████████████████████▌       | 788 kB 5.4 MB/s eta 0:00:01\r\u001b[K     |████████████████████████▉       | 798 kB 5.4 MB/s eta 0:00:01\r\u001b[K     |█████████████████████████       | 808 kB 5.4 MB/s eta 0:00:01\r\u001b[K     |█████████████████████████▍      | 819 kB 5.4 MB/s eta 0:00:01\r\u001b[K     |█████████████████████████▊      | 829 kB 5.4 MB/s eta 0:00:01\r\u001b[K     |██████████████████████████      | 839 kB 5.4 MB/s eta 0:00:01\r\u001b[K     |██████████████████████████▍     | 849 kB 5.4 MB/s eta 0:00:01\r\u001b[K     |██████████████████████████▊     | 860 kB 5.4 MB/s eta 0:00:01\r\u001b[K     |███████████████████████████     | 870 kB 5.4 MB/s eta 0:00:01\r\u001b[K     |███████████████████████████▎    | 880 kB 5.4 MB/s eta 0:00:01\r\u001b[K     |███████████████████████████▋    | 890 kB 5.4 MB/s eta 0:00:01\r\u001b[K     |████████████████████████████    | 901 kB 5.4 MB/s eta 0:00:01\r\u001b[K     |████████████████████████████▎   | 911 kB 5.4 MB/s eta 0:00:01\r\u001b[K     |████████████████████████████▋   | 921 kB 5.4 MB/s eta 0:00:01\r\u001b[K     |█████████████████████████████   | 931 kB 5.4 MB/s eta 0:00:01\r\u001b[K     |█████████████████████████████▎  | 942 kB 5.4 MB/s eta 0:00:01\r\u001b[K     |█████████████████████████████▌  | 952 kB 5.4 MB/s eta 0:00:01\r\u001b[K     |█████████████████████████████▉  | 962 kB 5.4 MB/s eta 0:00:01\r\u001b[K     |██████████████████████████████▏ | 972 kB 5.4 MB/s eta 0:00:01\r\u001b[K     |██████████████████████████████▌ | 983 kB 5.4 MB/s eta 0:00:01\r\u001b[K     |██████████████████████████████▉ | 993 kB 5.4 MB/s eta 0:00:01\r\u001b[K     |███████████████████████████████▏| 1.0 MB 5.4 MB/s eta 0:00:01\r\u001b[K     |███████████████████████████████▌| 1.0 MB 5.4 MB/s eta 0:00:01\r\u001b[K     |███████████████████████████████▊| 1.0 MB 5.4 MB/s eta 0:00:01\r\u001b[K     |████████████████████████████████| 1.0 MB 5.4 MB/s \n",
            "\u001b[?25hRequirement already satisfied: shapely>=1.6 in /usr/local/lib/python3.7/dist-packages (from geopandas) (1.8.1.post1)\n",
            "Requirement already satisfied: pandas>=0.25.0 in /usr/local/lib/python3.7/dist-packages (from geopandas) (1.3.5)\n",
            "Collecting pyproj>=2.2.0\n",
            "  Downloading pyproj-3.2.1-cp37-cp37m-manylinux2010_x86_64.whl (6.3 MB)\n",
            "\u001b[K     |████████████████████████████████| 6.3 MB 247 kB/s \n",
            "\u001b[?25hCollecting fiona>=1.8\n",
            "  Downloading Fiona-1.8.21-cp37-cp37m-manylinux2014_x86_64.whl (16.7 MB)\n",
            "\u001b[K     |████████████████████████████████| 16.7 MB 56.4 MB/s \n",
            "\u001b[?25hCollecting click-plugins>=1.0\n",
            "  Downloading click_plugins-1.1.1-py2.py3-none-any.whl (7.5 kB)\n",
            "Requirement already satisfied: setuptools in /usr/local/lib/python3.7/dist-packages (from fiona>=1.8->geopandas) (57.4.0)\n",
            "Requirement already satisfied: certifi in /usr/local/lib/python3.7/dist-packages (from fiona>=1.8->geopandas) (2021.10.8)\n",
            "Collecting munch\n",
            "  Downloading munch-2.5.0-py2.py3-none-any.whl (10 kB)\n",
            "Collecting cligj>=0.5\n",
            "  Downloading cligj-0.7.2-py3-none-any.whl (7.1 kB)\n",
            "Requirement already satisfied: attrs>=17 in /usr/local/lib/python3.7/dist-packages (from fiona>=1.8->geopandas) (21.4.0)\n",
            "Requirement already satisfied: six>=1.7 in /usr/local/lib/python3.7/dist-packages (from fiona>=1.8->geopandas) (1.15.0)\n",
            "Requirement already satisfied: click>=4.0 in /usr/local/lib/python3.7/dist-packages (from fiona>=1.8->geopandas) (7.1.2)\n",
            "Requirement already satisfied: numpy>=1.17.3 in /usr/local/lib/python3.7/dist-packages (from pandas>=0.25.0->geopandas) (1.21.5)\n",
            "Requirement already satisfied: python-dateutil>=2.7.3 in /usr/local/lib/python3.7/dist-packages (from pandas>=0.25.0->geopandas) (2.8.2)\n",
            "Requirement already satisfied: pytz>=2017.3 in /usr/local/lib/python3.7/dist-packages (from pandas>=0.25.0->geopandas) (2018.9)\n",
            "Installing collected packages: munch, cligj, click-plugins, pyproj, fiona, geopandas\n",
            "Successfully installed click-plugins-1.1.1 cligj-0.7.2 fiona-1.8.21 geopandas-0.10.2 munch-2.5.0 pyproj-3.2.1\n"
          ]
        }
      ],
      "source": [
        "\n",
        "!pip install geopandas"
      ]
    },
    {
      "cell_type": "code",
      "execution_count": null,
      "metadata": {
        "colab": {
          "base_uri": "https://localhost:8080/"
        },
        "id": "Yk9AYDPuW_CN",
        "outputId": "4e88c769-0fef-4a40-ec5e-cbde3e62e689"
      },
      "outputs": [
        {
          "name": "stdout",
          "output_type": "stream",
          "text": [
            "Requirement already satisfied: geopy in /usr/local/lib/python3.7/dist-packages (1.17.0)\n",
            "Requirement already satisfied: geographiclib<2,>=1.49 in /usr/local/lib/python3.7/dist-packages (from geopy) (1.52)\n"
          ]
        }
      ],
      "source": [
        "!pip install geopy"
      ]
    },
    {
      "cell_type": "code",
      "execution_count": null,
      "metadata": {
        "id": "IzCeAj19WxnC"
      },
      "outputs": [],
      "source": [
        "import numpy as np\n",
        "import pandas as pd\n",
        "import tensorflow as tf\n",
        "import seaborn as sns\n",
        "import matplotlib as mpl\n",
        "import matplotlib.pyplot as plt\n",
        "import keras \n",
        "import geopy \n",
        "import geopandas as gpd\n",
        "from keras.models import Sequential\n",
        "from keras.layers import Dense, Dropout\n",
        "from keras.utils import np_utils\n",
        "from datetime import datetime\n",
        "from sklearn.model_selection import train_test_split\n",
        "from imblearn.datasets import make_imbalance\n",
        "from imblearn.over_sampling import SMOTE\n",
        "from sklearn.preprocessing import StandardScaler\n",
        "from sklearn.pipeline import Pipeline\n",
        "from sklearn.preprocessing import OneHotEncoder\n",
        "from sklearn.compose import ColumnTransformer\n",
        "from sklearn.impute import SimpleImputer\n",
        "from sklearn.preprocessing import MinMaxScaler\n",
        "import io\n",
        "import os\n",
        "from numpy import loadtxt\n",
        "from keras.models import load_model\n",
        "from sklearn.metrics import mean_absolute_error"
      ]
    },
    {
      "cell_type": "code",
      "execution_count": null,
      "metadata": {
        "id": "DyoglEVIeFfT"
      },
      "outputs": [],
      "source": [
        "# Helper to plot loss\n",
        "def plot_loss(history):\n",
        "  plt.plot(history.history['loss'], label='loss')\n",
        "  plt.plot(history.history['val_loss'], label='val_loss')\n",
        "  plt.legend()\n",
        "  plt.grid(True)"
      ]
    },
    {
      "cell_type": "code",
      "execution_count": null,
      "metadata": {
        "colab": {
          "base_uri": "https://localhost:8080/"
        },
        "id": "N_hbQyTRB7Ww",
        "outputId": "2c9e28d6-ccb2-442f-932f-5314963e1869"
      },
      "outputs": [
        {
          "name": "stdout",
          "output_type": "stream",
          "text": [
            "Drive already mounted at /content/drive; to attempt to forcibly remount, call drive.mount(\"/content/drive\", force_remount=True).\n"
          ]
        }
      ],
      "source": [
        "from google.colab import drive\n",
        "drive.mount('/content/drive')"
      ]
    },
    {
      "cell_type": "code",
      "execution_count": null,
      "metadata": {
        "colab": {
          "base_uri": "https://localhost:8080/",
          "height": 310
        },
        "id": "VSz8FHz4CM0s",
        "outputId": "76c4deed-edb7-4fa7-eea7-fa8c377512da"
      },
      "outputs": [
        {
          "data": {
            "text/html": [
              "\n",
              "  <div id=\"df-12aba17c-d85b-4bf3-869f-1312b254c395\">\n",
              "    <div class=\"colab-df-container\">\n",
              "      <div>\n",
              "<style scoped>\n",
              "    .dataframe tbody tr th:only-of-type {\n",
              "        vertical-align: middle;\n",
              "    }\n",
              "\n",
              "    .dataframe tbody tr th {\n",
              "        vertical-align: top;\n",
              "    }\n",
              "\n",
              "    .dataframe thead th {\n",
              "        text-align: right;\n",
              "    }\n",
              "</style>\n",
              "<table border=\"1\" class=\"dataframe\">\n",
              "  <thead>\n",
              "    <tr style=\"text-align: right;\">\n",
              "      <th></th>\n",
              "      <th>trans_date_trans_time</th>\n",
              "      <th>cc_num</th>\n",
              "      <th>merchant</th>\n",
              "      <th>category</th>\n",
              "      <th>amt</th>\n",
              "      <th>first</th>\n",
              "      <th>last</th>\n",
              "      <th>gender</th>\n",
              "      <th>street</th>\n",
              "      <th>city</th>\n",
              "      <th>...</th>\n",
              "      <th>lat</th>\n",
              "      <th>long</th>\n",
              "      <th>city_pop</th>\n",
              "      <th>job</th>\n",
              "      <th>dob</th>\n",
              "      <th>trans_num</th>\n",
              "      <th>unix_time</th>\n",
              "      <th>merch_lat</th>\n",
              "      <th>merch_long</th>\n",
              "      <th>is_fraud</th>\n",
              "    </tr>\n",
              "  </thead>\n",
              "  <tbody>\n",
              "    <tr>\n",
              "      <th>0</th>\n",
              "      <td>2019-01-01 00:00:18</td>\n",
              "      <td>2703186189652095</td>\n",
              "      <td>fraud_Rippin, Kub and Mann</td>\n",
              "      <td>misc_net</td>\n",
              "      <td>4.97</td>\n",
              "      <td>Jennifer</td>\n",
              "      <td>Banks</td>\n",
              "      <td>F</td>\n",
              "      <td>561 Perry Cove</td>\n",
              "      <td>Moravian Falls</td>\n",
              "      <td>...</td>\n",
              "      <td>36.0788</td>\n",
              "      <td>-81.1781</td>\n",
              "      <td>3495</td>\n",
              "      <td>Psychologist, counselling</td>\n",
              "      <td>1988-03-09</td>\n",
              "      <td>0b242abb623afc578575680df30655b9</td>\n",
              "      <td>1325376018</td>\n",
              "      <td>36.011293</td>\n",
              "      <td>-82.048315</td>\n",
              "      <td>0</td>\n",
              "    </tr>\n",
              "    <tr>\n",
              "      <th>1</th>\n",
              "      <td>2019-01-01 00:00:44</td>\n",
              "      <td>630423337322</td>\n",
              "      <td>fraud_Heller, Gutmann and Zieme</td>\n",
              "      <td>grocery_pos</td>\n",
              "      <td>107.23</td>\n",
              "      <td>Stephanie</td>\n",
              "      <td>Gill</td>\n",
              "      <td>F</td>\n",
              "      <td>43039 Riley Greens Suite 393</td>\n",
              "      <td>Orient</td>\n",
              "      <td>...</td>\n",
              "      <td>48.8878</td>\n",
              "      <td>-118.2105</td>\n",
              "      <td>149</td>\n",
              "      <td>Special educational needs teacher</td>\n",
              "      <td>1978-06-21</td>\n",
              "      <td>1f76529f8574734946361c461b024d99</td>\n",
              "      <td>1325376044</td>\n",
              "      <td>49.159047</td>\n",
              "      <td>-118.186462</td>\n",
              "      <td>0</td>\n",
              "    </tr>\n",
              "  </tbody>\n",
              "</table>\n",
              "<p>2 rows × 22 columns</p>\n",
              "</div>\n",
              "      <button class=\"colab-df-convert\" onclick=\"convertToInteractive('df-12aba17c-d85b-4bf3-869f-1312b254c395')\"\n",
              "              title=\"Convert this dataframe to an interactive table.\"\n",
              "              style=\"display:none;\">\n",
              "        \n",
              "  <svg xmlns=\"http://www.w3.org/2000/svg\" height=\"24px\"viewBox=\"0 0 24 24\"\n",
              "       width=\"24px\">\n",
              "    <path d=\"M0 0h24v24H0V0z\" fill=\"none\"/>\n",
              "    <path d=\"M18.56 5.44l.94 2.06.94-2.06 2.06-.94-2.06-.94-.94-2.06-.94 2.06-2.06.94zm-11 1L8.5 8.5l.94-2.06 2.06-.94-2.06-.94L8.5 2.5l-.94 2.06-2.06.94zm10 10l.94 2.06.94-2.06 2.06-.94-2.06-.94-.94-2.06-.94 2.06-2.06.94z\"/><path d=\"M17.41 7.96l-1.37-1.37c-.4-.4-.92-.59-1.43-.59-.52 0-1.04.2-1.43.59L10.3 9.45l-7.72 7.72c-.78.78-.78 2.05 0 2.83L4 21.41c.39.39.9.59 1.41.59.51 0 1.02-.2 1.41-.59l7.78-7.78 2.81-2.81c.8-.78.8-2.07 0-2.86zM5.41 20L4 18.59l7.72-7.72 1.47 1.35L5.41 20z\"/>\n",
              "  </svg>\n",
              "      </button>\n",
              "      \n",
              "  <style>\n",
              "    .colab-df-container {\n",
              "      display:flex;\n",
              "      flex-wrap:wrap;\n",
              "      gap: 12px;\n",
              "    }\n",
              "\n",
              "    .colab-df-convert {\n",
              "      background-color: #E8F0FE;\n",
              "      border: none;\n",
              "      border-radius: 50%;\n",
              "      cursor: pointer;\n",
              "      display: none;\n",
              "      fill: #1967D2;\n",
              "      height: 32px;\n",
              "      padding: 0 0 0 0;\n",
              "      width: 32px;\n",
              "    }\n",
              "\n",
              "    .colab-df-convert:hover {\n",
              "      background-color: #E2EBFA;\n",
              "      box-shadow: 0px 1px 2px rgba(60, 64, 67, 0.3), 0px 1px 3px 1px rgba(60, 64, 67, 0.15);\n",
              "      fill: #174EA6;\n",
              "    }\n",
              "\n",
              "    [theme=dark] .colab-df-convert {\n",
              "      background-color: #3B4455;\n",
              "      fill: #D2E3FC;\n",
              "    }\n",
              "\n",
              "    [theme=dark] .colab-df-convert:hover {\n",
              "      background-color: #434B5C;\n",
              "      box-shadow: 0px 1px 3px 1px rgba(0, 0, 0, 0.15);\n",
              "      filter: drop-shadow(0px 1px 2px rgba(0, 0, 0, 0.3));\n",
              "      fill: #FFFFFF;\n",
              "    }\n",
              "  </style>\n",
              "\n",
              "      <script>\n",
              "        const buttonEl =\n",
              "          document.querySelector('#df-12aba17c-d85b-4bf3-869f-1312b254c395 button.colab-df-convert');\n",
              "        buttonEl.style.display =\n",
              "          google.colab.kernel.accessAllowed ? 'block' : 'none';\n",
              "\n",
              "        async function convertToInteractive(key) {\n",
              "          const element = document.querySelector('#df-12aba17c-d85b-4bf3-869f-1312b254c395');\n",
              "          const dataTable =\n",
              "            await google.colab.kernel.invokeFunction('convertToInteractive',\n",
              "                                                     [key], {});\n",
              "          if (!dataTable) return;\n",
              "\n",
              "          const docLinkHtml = 'Like what you see? Visit the ' +\n",
              "            '<a target=\"_blank\" href=https://colab.research.google.com/notebooks/data_table.ipynb>data table notebook</a>'\n",
              "            + ' to learn more about interactive tables.';\n",
              "          element.innerHTML = '';\n",
              "          dataTable['output_type'] = 'display_data';\n",
              "          await google.colab.output.renderOutput(dataTable, element);\n",
              "          const docLink = document.createElement('div');\n",
              "          docLink.innerHTML = docLinkHtml;\n",
              "          element.appendChild(docLink);\n",
              "        }\n",
              "      </script>\n",
              "    </div>\n",
              "  </div>\n",
              "  "
            ],
            "text/plain": [
              "  trans_date_trans_time            cc_num                         merchant  \\\n",
              "0   2019-01-01 00:00:18  2703186189652095       fraud_Rippin, Kub and Mann   \n",
              "1   2019-01-01 00:00:44      630423337322  fraud_Heller, Gutmann and Zieme   \n",
              "\n",
              "      category     amt      first   last gender                        street  \\\n",
              "0     misc_net    4.97   Jennifer  Banks      F                561 Perry Cove   \n",
              "1  grocery_pos  107.23  Stephanie   Gill      F  43039 Riley Greens Suite 393   \n",
              "\n",
              "             city  ...      lat      long  city_pop  \\\n",
              "0  Moravian Falls  ...  36.0788  -81.1781      3495   \n",
              "1          Orient  ...  48.8878 -118.2105       149   \n",
              "\n",
              "                                 job         dob  \\\n",
              "0          Psychologist, counselling  1988-03-09   \n",
              "1  Special educational needs teacher  1978-06-21   \n",
              "\n",
              "                          trans_num   unix_time  merch_lat  merch_long  \\\n",
              "0  0b242abb623afc578575680df30655b9  1325376018  36.011293  -82.048315   \n",
              "1  1f76529f8574734946361c461b024d99  1325376044  49.159047 -118.186462   \n",
              "\n",
              "   is_fraud  \n",
              "0         0  \n",
              "1         0  \n",
              "\n",
              "[2 rows x 22 columns]"
            ]
          },
          "execution_count": 9,
          "metadata": {},
          "output_type": "execute_result"
        }
      ],
      "source": [
        "path = \"/content/drive/MyDrive/fraudTrain.csv\"\n",
        "df = pd.read_csv(path)\n",
        "df.drop(columns={\"Unnamed: 0\"}, inplace=True)\n",
        "df.head(2)"
      ]
    },
    {
      "cell_type": "markdown",
      "metadata": {
        "id": "LyKKzO34XKil"
      },
      "source": [
        "### Deal With Lat/Lon\n",
        "\n",
        "Lat and Long data used to create distance data for new column"
      ]
    },
    {
      "cell_type": "code",
      "execution_count": null,
      "metadata": {
        "id": "KjIm2AlqXJTC"
      },
      "outputs": [],
      "source": [
        "home_loc = gpd.GeoDataFrame(geometry=gpd.points_from_xy(df['lat'], df['long']))\n",
        "merch_loc = gpd.GeoDataFrame(geometry=gpd.points_from_xy(df['merch_lat'], df['merch_long']))"
      ]
    },
    {
      "cell_type": "code",
      "execution_count": null,
      "metadata": {
        "colab": {
          "base_uri": "https://localhost:8080/",
          "height": 208
        },
        "id": "YeqFzZnzXjED",
        "outputId": "8fb6e18d-9639-4a37-af05-96f70d046a9d"
      },
      "outputs": [
        {
          "data": {
            "text/html": [
              "\n",
              "  <div id=\"df-101b1e2b-c0a2-48f6-9203-fa78c1637da4\">\n",
              "    <div class=\"colab-df-container\">\n",
              "      <div>\n",
              "<style scoped>\n",
              "    .dataframe tbody tr th:only-of-type {\n",
              "        vertical-align: middle;\n",
              "    }\n",
              "\n",
              "    .dataframe tbody tr th {\n",
              "        vertical-align: top;\n",
              "    }\n",
              "\n",
              "    .dataframe thead th {\n",
              "        text-align: right;\n",
              "    }\n",
              "</style>\n",
              "<table border=\"1\" class=\"dataframe\">\n",
              "  <thead>\n",
              "    <tr style=\"text-align: right;\">\n",
              "      <th></th>\n",
              "      <th>trans_date_trans_time</th>\n",
              "      <th>cc_num</th>\n",
              "      <th>merchant</th>\n",
              "      <th>category</th>\n",
              "      <th>amt</th>\n",
              "      <th>first</th>\n",
              "      <th>last</th>\n",
              "      <th>gender</th>\n",
              "      <th>street</th>\n",
              "      <th>city</th>\n",
              "      <th>...</th>\n",
              "      <th>long</th>\n",
              "      <th>city_pop</th>\n",
              "      <th>job</th>\n",
              "      <th>dob</th>\n",
              "      <th>trans_num</th>\n",
              "      <th>unix_time</th>\n",
              "      <th>merch_lat</th>\n",
              "      <th>merch_long</th>\n",
              "      <th>is_fraud</th>\n",
              "      <th>distance</th>\n",
              "    </tr>\n",
              "  </thead>\n",
              "  <tbody>\n",
              "    <tr>\n",
              "      <th>0</th>\n",
              "      <td>2019-01-01 00:00:18</td>\n",
              "      <td>2703186189652095</td>\n",
              "      <td>fraud_Rippin, Kub and Mann</td>\n",
              "      <td>misc_net</td>\n",
              "      <td>4.97</td>\n",
              "      <td>Jennifer</td>\n",
              "      <td>Banks</td>\n",
              "      <td>F</td>\n",
              "      <td>561 Perry Cove</td>\n",
              "      <td>Moravian Falls</td>\n",
              "      <td>...</td>\n",
              "      <td>-81.1781</td>\n",
              "      <td>3495</td>\n",
              "      <td>Psychologist, counselling</td>\n",
              "      <td>1988-03-09</td>\n",
              "      <td>0b242abb623afc578575680df30655b9</td>\n",
              "      <td>1325376018</td>\n",
              "      <td>36.011293</td>\n",
              "      <td>-82.048315</td>\n",
              "      <td>0</td>\n",
              "      <td>0.87283</td>\n",
              "    </tr>\n",
              "  </tbody>\n",
              "</table>\n",
              "<p>1 rows × 23 columns</p>\n",
              "</div>\n",
              "      <button class=\"colab-df-convert\" onclick=\"convertToInteractive('df-101b1e2b-c0a2-48f6-9203-fa78c1637da4')\"\n",
              "              title=\"Convert this dataframe to an interactive table.\"\n",
              "              style=\"display:none;\">\n",
              "        \n",
              "  <svg xmlns=\"http://www.w3.org/2000/svg\" height=\"24px\"viewBox=\"0 0 24 24\"\n",
              "       width=\"24px\">\n",
              "    <path d=\"M0 0h24v24H0V0z\" fill=\"none\"/>\n",
              "    <path d=\"M18.56 5.44l.94 2.06.94-2.06 2.06-.94-2.06-.94-.94-2.06-.94 2.06-2.06.94zm-11 1L8.5 8.5l.94-2.06 2.06-.94-2.06-.94L8.5 2.5l-.94 2.06-2.06.94zm10 10l.94 2.06.94-2.06 2.06-.94-2.06-.94-.94-2.06-.94 2.06-2.06.94z\"/><path d=\"M17.41 7.96l-1.37-1.37c-.4-.4-.92-.59-1.43-.59-.52 0-1.04.2-1.43.59L10.3 9.45l-7.72 7.72c-.78.78-.78 2.05 0 2.83L4 21.41c.39.39.9.59 1.41.59.51 0 1.02-.2 1.41-.59l7.78-7.78 2.81-2.81c.8-.78.8-2.07 0-2.86zM5.41 20L4 18.59l7.72-7.72 1.47 1.35L5.41 20z\"/>\n",
              "  </svg>\n",
              "      </button>\n",
              "      \n",
              "  <style>\n",
              "    .colab-df-container {\n",
              "      display:flex;\n",
              "      flex-wrap:wrap;\n",
              "      gap: 12px;\n",
              "    }\n",
              "\n",
              "    .colab-df-convert {\n",
              "      background-color: #E8F0FE;\n",
              "      border: none;\n",
              "      border-radius: 50%;\n",
              "      cursor: pointer;\n",
              "      display: none;\n",
              "      fill: #1967D2;\n",
              "      height: 32px;\n",
              "      padding: 0 0 0 0;\n",
              "      width: 32px;\n",
              "    }\n",
              "\n",
              "    .colab-df-convert:hover {\n",
              "      background-color: #E2EBFA;\n",
              "      box-shadow: 0px 1px 2px rgba(60, 64, 67, 0.3), 0px 1px 3px 1px rgba(60, 64, 67, 0.15);\n",
              "      fill: #174EA6;\n",
              "    }\n",
              "\n",
              "    [theme=dark] .colab-df-convert {\n",
              "      background-color: #3B4455;\n",
              "      fill: #D2E3FC;\n",
              "    }\n",
              "\n",
              "    [theme=dark] .colab-df-convert:hover {\n",
              "      background-color: #434B5C;\n",
              "      box-shadow: 0px 1px 3px 1px rgba(0, 0, 0, 0.15);\n",
              "      filter: drop-shadow(0px 1px 2px rgba(0, 0, 0, 0.3));\n",
              "      fill: #FFFFFF;\n",
              "    }\n",
              "  </style>\n",
              "\n",
              "      <script>\n",
              "        const buttonEl =\n",
              "          document.querySelector('#df-101b1e2b-c0a2-48f6-9203-fa78c1637da4 button.colab-df-convert');\n",
              "        buttonEl.style.display =\n",
              "          google.colab.kernel.accessAllowed ? 'block' : 'none';\n",
              "\n",
              "        async function convertToInteractive(key) {\n",
              "          const element = document.querySelector('#df-101b1e2b-c0a2-48f6-9203-fa78c1637da4');\n",
              "          const dataTable =\n",
              "            await google.colab.kernel.invokeFunction('convertToInteractive',\n",
              "                                                     [key], {});\n",
              "          if (!dataTable) return;\n",
              "\n",
              "          const docLinkHtml = 'Like what you see? Visit the ' +\n",
              "            '<a target=\"_blank\" href=https://colab.research.google.com/notebooks/data_table.ipynb>data table notebook</a>'\n",
              "            + ' to learn more about interactive tables.';\n",
              "          element.innerHTML = '';\n",
              "          dataTable['output_type'] = 'display_data';\n",
              "          await google.colab.output.renderOutput(dataTable, element);\n",
              "          const docLink = document.createElement('div');\n",
              "          docLink.innerHTML = docLinkHtml;\n",
              "          element.appendChild(docLink);\n",
              "        }\n",
              "      </script>\n",
              "    </div>\n",
              "  </div>\n",
              "  "
            ],
            "text/plain": [
              "  trans_date_trans_time            cc_num                    merchant  \\\n",
              "0   2019-01-01 00:00:18  2703186189652095  fraud_Rippin, Kub and Mann   \n",
              "\n",
              "   category   amt     first   last gender          street            city  \\\n",
              "0  misc_net  4.97  Jennifer  Banks      F  561 Perry Cove  Moravian Falls   \n",
              "\n",
              "   ...     long  city_pop                        job         dob  \\\n",
              "0  ... -81.1781      3495  Psychologist, counselling  1988-03-09   \n",
              "\n",
              "                          trans_num   unix_time  merch_lat merch_long  \\\n",
              "0  0b242abb623afc578575680df30655b9  1325376018  36.011293 -82.048315   \n",
              "\n",
              "   is_fraud  distance  \n",
              "0         0   0.87283  \n",
              "\n",
              "[1 rows x 23 columns]"
            ]
          },
          "execution_count": 11,
          "metadata": {},
          "output_type": "execute_result"
        }
      ],
      "source": [
        "##adding the distance column to the data frame\n",
        "df['distance'] = home_loc.distance(merch_loc)\n",
        "df.head(1)"
      ]
    },
    {
      "cell_type": "markdown",
      "metadata": {
        "id": "rfBADCrnXz3N"
      },
      "source": [
        "### Deal with Time\n",
        "\n",
        "converting the date columns to pandas datetime type and Creating \"Age\" column from the date of birth and transaction date data"
      ]
    },
    {
      "cell_type": "code",
      "execution_count": null,
      "metadata": {
        "id": "lFPUznXcXx5B"
      },
      "outputs": [],
      "source": [
        "df['trans_date_trans_time'] = pd.to_datetime(df['trans_date_trans_time'])\n",
        "df['dob'] = pd.to_datetime(df['dob'])"
      ]
    },
    {
      "cell_type": "code",
      "execution_count": null,
      "metadata": {
        "colab": {
          "base_uri": "https://localhost:8080/",
          "height": 208
        },
        "id": "SP45bIbtYINQ",
        "outputId": "e6a44fbf-0f80-43ed-e95b-ac1767106396"
      },
      "outputs": [
        {
          "data": {
            "text/html": [
              "\n",
              "  <div id=\"df-ef83fe05-9c1a-47ac-b569-125e4f8c7aca\">\n",
              "    <div class=\"colab-df-container\">\n",
              "      <div>\n",
              "<style scoped>\n",
              "    .dataframe tbody tr th:only-of-type {\n",
              "        vertical-align: middle;\n",
              "    }\n",
              "\n",
              "    .dataframe tbody tr th {\n",
              "        vertical-align: top;\n",
              "    }\n",
              "\n",
              "    .dataframe thead th {\n",
              "        text-align: right;\n",
              "    }\n",
              "</style>\n",
              "<table border=\"1\" class=\"dataframe\">\n",
              "  <thead>\n",
              "    <tr style=\"text-align: right;\">\n",
              "      <th></th>\n",
              "      <th>trans_date_trans_time</th>\n",
              "      <th>cc_num</th>\n",
              "      <th>merchant</th>\n",
              "      <th>category</th>\n",
              "      <th>amt</th>\n",
              "      <th>first</th>\n",
              "      <th>last</th>\n",
              "      <th>gender</th>\n",
              "      <th>street</th>\n",
              "      <th>city</th>\n",
              "      <th>...</th>\n",
              "      <th>city_pop</th>\n",
              "      <th>job</th>\n",
              "      <th>dob</th>\n",
              "      <th>trans_num</th>\n",
              "      <th>unix_time</th>\n",
              "      <th>merch_lat</th>\n",
              "      <th>merch_long</th>\n",
              "      <th>is_fraud</th>\n",
              "      <th>distance</th>\n",
              "      <th>Age</th>\n",
              "    </tr>\n",
              "  </thead>\n",
              "  <tbody>\n",
              "    <tr>\n",
              "      <th>0</th>\n",
              "      <td>2019-01-01 00:00:18</td>\n",
              "      <td>2703186189652095</td>\n",
              "      <td>fraud_Rippin, Kub and Mann</td>\n",
              "      <td>misc_net</td>\n",
              "      <td>4.97</td>\n",
              "      <td>Jennifer</td>\n",
              "      <td>Banks</td>\n",
              "      <td>F</td>\n",
              "      <td>561 Perry Cove</td>\n",
              "      <td>Moravian Falls</td>\n",
              "      <td>...</td>\n",
              "      <td>3495</td>\n",
              "      <td>Psychologist, counselling</td>\n",
              "      <td>1988-03-09</td>\n",
              "      <td>0b242abb623afc578575680df30655b9</td>\n",
              "      <td>1325376018</td>\n",
              "      <td>36.011293</td>\n",
              "      <td>-82.048315</td>\n",
              "      <td>0</td>\n",
              "      <td>0.87283</td>\n",
              "      <td>31.0</td>\n",
              "    </tr>\n",
              "  </tbody>\n",
              "</table>\n",
              "<p>1 rows × 24 columns</p>\n",
              "</div>\n",
              "      <button class=\"colab-df-convert\" onclick=\"convertToInteractive('df-ef83fe05-9c1a-47ac-b569-125e4f8c7aca')\"\n",
              "              title=\"Convert this dataframe to an interactive table.\"\n",
              "              style=\"display:none;\">\n",
              "        \n",
              "  <svg xmlns=\"http://www.w3.org/2000/svg\" height=\"24px\"viewBox=\"0 0 24 24\"\n",
              "       width=\"24px\">\n",
              "    <path d=\"M0 0h24v24H0V0z\" fill=\"none\"/>\n",
              "    <path d=\"M18.56 5.44l.94 2.06.94-2.06 2.06-.94-2.06-.94-.94-2.06-.94 2.06-2.06.94zm-11 1L8.5 8.5l.94-2.06 2.06-.94-2.06-.94L8.5 2.5l-.94 2.06-2.06.94zm10 10l.94 2.06.94-2.06 2.06-.94-2.06-.94-.94-2.06-.94 2.06-2.06.94z\"/><path d=\"M17.41 7.96l-1.37-1.37c-.4-.4-.92-.59-1.43-.59-.52 0-1.04.2-1.43.59L10.3 9.45l-7.72 7.72c-.78.78-.78 2.05 0 2.83L4 21.41c.39.39.9.59 1.41.59.51 0 1.02-.2 1.41-.59l7.78-7.78 2.81-2.81c.8-.78.8-2.07 0-2.86zM5.41 20L4 18.59l7.72-7.72 1.47 1.35L5.41 20z\"/>\n",
              "  </svg>\n",
              "      </button>\n",
              "      \n",
              "  <style>\n",
              "    .colab-df-container {\n",
              "      display:flex;\n",
              "      flex-wrap:wrap;\n",
              "      gap: 12px;\n",
              "    }\n",
              "\n",
              "    .colab-df-convert {\n",
              "      background-color: #E8F0FE;\n",
              "      border: none;\n",
              "      border-radius: 50%;\n",
              "      cursor: pointer;\n",
              "      display: none;\n",
              "      fill: #1967D2;\n",
              "      height: 32px;\n",
              "      padding: 0 0 0 0;\n",
              "      width: 32px;\n",
              "    }\n",
              "\n",
              "    .colab-df-convert:hover {\n",
              "      background-color: #E2EBFA;\n",
              "      box-shadow: 0px 1px 2px rgba(60, 64, 67, 0.3), 0px 1px 3px 1px rgba(60, 64, 67, 0.15);\n",
              "      fill: #174EA6;\n",
              "    }\n",
              "\n",
              "    [theme=dark] .colab-df-convert {\n",
              "      background-color: #3B4455;\n",
              "      fill: #D2E3FC;\n",
              "    }\n",
              "\n",
              "    [theme=dark] .colab-df-convert:hover {\n",
              "      background-color: #434B5C;\n",
              "      box-shadow: 0px 1px 3px 1px rgba(0, 0, 0, 0.15);\n",
              "      filter: drop-shadow(0px 1px 2px rgba(0, 0, 0, 0.3));\n",
              "      fill: #FFFFFF;\n",
              "    }\n",
              "  </style>\n",
              "\n",
              "      <script>\n",
              "        const buttonEl =\n",
              "          document.querySelector('#df-ef83fe05-9c1a-47ac-b569-125e4f8c7aca button.colab-df-convert');\n",
              "        buttonEl.style.display =\n",
              "          google.colab.kernel.accessAllowed ? 'block' : 'none';\n",
              "\n",
              "        async function convertToInteractive(key) {\n",
              "          const element = document.querySelector('#df-ef83fe05-9c1a-47ac-b569-125e4f8c7aca');\n",
              "          const dataTable =\n",
              "            await google.colab.kernel.invokeFunction('convertToInteractive',\n",
              "                                                     [key], {});\n",
              "          if (!dataTable) return;\n",
              "\n",
              "          const docLinkHtml = 'Like what you see? Visit the ' +\n",
              "            '<a target=\"_blank\" href=https://colab.research.google.com/notebooks/data_table.ipynb>data table notebook</a>'\n",
              "            + ' to learn more about interactive tables.';\n",
              "          element.innerHTML = '';\n",
              "          dataTable['output_type'] = 'display_data';\n",
              "          await google.colab.output.renderOutput(dataTable, element);\n",
              "          const docLink = document.createElement('div');\n",
              "          docLink.innerHTML = docLinkHtml;\n",
              "          element.appendChild(docLink);\n",
              "        }\n",
              "      </script>\n",
              "    </div>\n",
              "  </div>\n",
              "  "
            ],
            "text/plain": [
              "  trans_date_trans_time            cc_num                    merchant  \\\n",
              "0   2019-01-01 00:00:18  2703186189652095  fraud_Rippin, Kub and Mann   \n",
              "\n",
              "   category   amt     first   last gender          street            city  \\\n",
              "0  misc_net  4.97  Jennifer  Banks      F  561 Perry Cove  Moravian Falls   \n",
              "\n",
              "   ... city_pop                        job        dob  \\\n",
              "0  ...     3495  Psychologist, counselling 1988-03-09   \n",
              "\n",
              "                          trans_num   unix_time  merch_lat merch_long  \\\n",
              "0  0b242abb623afc578575680df30655b9  1325376018  36.011293 -82.048315   \n",
              "\n",
              "  is_fraud  distance   Age  \n",
              "0        0   0.87283  31.0  \n",
              "\n",
              "[1 rows x 24 columns]"
            ]
          },
          "execution_count": 13,
          "metadata": {},
          "output_type": "execute_result"
        }
      ],
      "source": [
        "## adding the age column to the data frame\n",
        "df['Age'] = ((df['trans_date_trans_time'] - df['dob'])/ np.timedelta64(1, 'Y')).round(0)\n",
        "df.head(1)"
      ]
    },
    {
      "cell_type": "markdown",
      "metadata": {
        "id": "McGSN-TlteOD"
      },
      "source": [
        "### Prepare Data"
      ]
    },
    {
      "cell_type": "code",
      "execution_count": null,
      "metadata": {
        "id": "MJ38gbCfRVmp"
      },
      "outputs": [],
      "source": [
        "#droping columns too complicated for pandas to get dummies (system keeps crashing)\n",
        "df = df.drop(columns =['trans_date_trans_time', 'dob', 'lat', 'long', 'merch_lat', 'merch_long','merchant', 'first', 'last', 'street', 'job', 'amt', 'trans_num', 'unix_time', 'city_pop' ])\n"
      ]
    },
    {
      "cell_type": "code",
      "execution_count": null,
      "metadata": {
        "colab": {
          "base_uri": "https://localhost:8080/"
        },
        "id": "qDr-qf_9RruA",
        "outputId": "de08ccee-eb92-49f8-9c0e-4bce13f7b097"
      },
      "outputs": [
        {
          "name": "stdout",
          "output_type": "stream",
          "text": [
            "<class 'pandas.core.frame.DataFrame'>\n",
            "RangeIndex: 1296675 entries, 0 to 1296674\n",
            "Data columns (total 9 columns):\n",
            " #   Column    Non-Null Count    Dtype  \n",
            "---  ------    --------------    -----  \n",
            " 0   cc_num    1296675 non-null  int64  \n",
            " 1   category  1296675 non-null  object \n",
            " 2   gender    1296675 non-null  object \n",
            " 3   city      1296675 non-null  object \n",
            " 4   state     1296675 non-null  object \n",
            " 5   zip       1296675 non-null  int64  \n",
            " 6   is_fraud  1296675 non-null  int64  \n",
            " 7   distance  1296675 non-null  float64\n",
            " 8   Age       1296675 non-null  float64\n",
            "dtypes: float64(2), int64(3), object(4)\n",
            "memory usage: 89.0+ MB\n"
          ]
        }
      ],
      "source": [
        "df.info()"
      ]
    },
    {
      "cell_type": "code",
      "execution_count": null,
      "metadata": {
        "id": "jnt6OTnYsX0J"
      },
      "outputs": [],
      "source": [
        "df_k = pd.get_dummies(df, drop_first=True)\n"
      ]
    },
    {
      "cell_type": "code",
      "execution_count": null,
      "metadata": {
        "colab": {
          "base_uri": "https://localhost:8080/",
          "height": 236
        },
        "id": "iKMBNh9Usp_C",
        "outputId": "e72922e5-1423-4c8b-d3f2-3e771797321b"
      },
      "outputs": [
        {
          "data": {
            "text/html": [
              "\n",
              "  <div id=\"df-73467205-4d94-41e7-a4d5-89cd490f6dca\">\n",
              "    <div class=\"colab-df-container\">\n",
              "      <div>\n",
              "<style scoped>\n",
              "    .dataframe tbody tr th:only-of-type {\n",
              "        vertical-align: middle;\n",
              "    }\n",
              "\n",
              "    .dataframe tbody tr th {\n",
              "        vertical-align: top;\n",
              "    }\n",
              "\n",
              "    .dataframe thead th {\n",
              "        text-align: right;\n",
              "    }\n",
              "</style>\n",
              "<table border=\"1\" class=\"dataframe\">\n",
              "  <thead>\n",
              "    <tr style=\"text-align: right;\">\n",
              "      <th></th>\n",
              "      <th>cc_num</th>\n",
              "      <th>zip</th>\n",
              "      <th>is_fraud</th>\n",
              "      <th>distance</th>\n",
              "      <th>Age</th>\n",
              "      <th>category_food_dining</th>\n",
              "      <th>category_gas_transport</th>\n",
              "      <th>category_grocery_net</th>\n",
              "      <th>category_grocery_pos</th>\n",
              "      <th>category_health_fitness</th>\n",
              "      <th>...</th>\n",
              "      <th>state_SD</th>\n",
              "      <th>state_TN</th>\n",
              "      <th>state_TX</th>\n",
              "      <th>state_UT</th>\n",
              "      <th>state_VA</th>\n",
              "      <th>state_VT</th>\n",
              "      <th>state_WA</th>\n",
              "      <th>state_WI</th>\n",
              "      <th>state_WV</th>\n",
              "      <th>state_WY</th>\n",
              "    </tr>\n",
              "  </thead>\n",
              "  <tbody>\n",
              "    <tr>\n",
              "      <th>0</th>\n",
              "      <td>2703186189652095</td>\n",
              "      <td>28654</td>\n",
              "      <td>0</td>\n",
              "      <td>0.872830</td>\n",
              "      <td>31.0</td>\n",
              "      <td>0</td>\n",
              "      <td>0</td>\n",
              "      <td>0</td>\n",
              "      <td>0</td>\n",
              "      <td>0</td>\n",
              "      <td>...</td>\n",
              "      <td>0</td>\n",
              "      <td>0</td>\n",
              "      <td>0</td>\n",
              "      <td>0</td>\n",
              "      <td>0</td>\n",
              "      <td>0</td>\n",
              "      <td>0</td>\n",
              "      <td>0</td>\n",
              "      <td>0</td>\n",
              "      <td>0</td>\n",
              "    </tr>\n",
              "    <tr>\n",
              "      <th>1</th>\n",
              "      <td>630423337322</td>\n",
              "      <td>99160</td>\n",
              "      <td>0</td>\n",
              "      <td>0.272310</td>\n",
              "      <td>41.0</td>\n",
              "      <td>0</td>\n",
              "      <td>0</td>\n",
              "      <td>0</td>\n",
              "      <td>1</td>\n",
              "      <td>0</td>\n",
              "      <td>...</td>\n",
              "      <td>0</td>\n",
              "      <td>0</td>\n",
              "      <td>0</td>\n",
              "      <td>0</td>\n",
              "      <td>0</td>\n",
              "      <td>0</td>\n",
              "      <td>1</td>\n",
              "      <td>0</td>\n",
              "      <td>0</td>\n",
              "      <td>0</td>\n",
              "    </tr>\n",
              "    <tr>\n",
              "      <th>2</th>\n",
              "      <td>38859492057661</td>\n",
              "      <td>83252</td>\n",
              "      <td>0</td>\n",
              "      <td>0.975845</td>\n",
              "      <td>57.0</td>\n",
              "      <td>0</td>\n",
              "      <td>0</td>\n",
              "      <td>0</td>\n",
              "      <td>0</td>\n",
              "      <td>0</td>\n",
              "      <td>...</td>\n",
              "      <td>0</td>\n",
              "      <td>0</td>\n",
              "      <td>0</td>\n",
              "      <td>0</td>\n",
              "      <td>0</td>\n",
              "      <td>0</td>\n",
              "      <td>0</td>\n",
              "      <td>0</td>\n",
              "      <td>0</td>\n",
              "      <td>0</td>\n",
              "    </tr>\n",
              "  </tbody>\n",
              "</table>\n",
              "<p>3 rows × 962 columns</p>\n",
              "</div>\n",
              "      <button class=\"colab-df-convert\" onclick=\"convertToInteractive('df-73467205-4d94-41e7-a4d5-89cd490f6dca')\"\n",
              "              title=\"Convert this dataframe to an interactive table.\"\n",
              "              style=\"display:none;\">\n",
              "        \n",
              "  <svg xmlns=\"http://www.w3.org/2000/svg\" height=\"24px\"viewBox=\"0 0 24 24\"\n",
              "       width=\"24px\">\n",
              "    <path d=\"M0 0h24v24H0V0z\" fill=\"none\"/>\n",
              "    <path d=\"M18.56 5.44l.94 2.06.94-2.06 2.06-.94-2.06-.94-.94-2.06-.94 2.06-2.06.94zm-11 1L8.5 8.5l.94-2.06 2.06-.94-2.06-.94L8.5 2.5l-.94 2.06-2.06.94zm10 10l.94 2.06.94-2.06 2.06-.94-2.06-.94-.94-2.06-.94 2.06-2.06.94z\"/><path d=\"M17.41 7.96l-1.37-1.37c-.4-.4-.92-.59-1.43-.59-.52 0-1.04.2-1.43.59L10.3 9.45l-7.72 7.72c-.78.78-.78 2.05 0 2.83L4 21.41c.39.39.9.59 1.41.59.51 0 1.02-.2 1.41-.59l7.78-7.78 2.81-2.81c.8-.78.8-2.07 0-2.86zM5.41 20L4 18.59l7.72-7.72 1.47 1.35L5.41 20z\"/>\n",
              "  </svg>\n",
              "      </button>\n",
              "      \n",
              "  <style>\n",
              "    .colab-df-container {\n",
              "      display:flex;\n",
              "      flex-wrap:wrap;\n",
              "      gap: 12px;\n",
              "    }\n",
              "\n",
              "    .colab-df-convert {\n",
              "      background-color: #E8F0FE;\n",
              "      border: none;\n",
              "      border-radius: 50%;\n",
              "      cursor: pointer;\n",
              "      display: none;\n",
              "      fill: #1967D2;\n",
              "      height: 32px;\n",
              "      padding: 0 0 0 0;\n",
              "      width: 32px;\n",
              "    }\n",
              "\n",
              "    .colab-df-convert:hover {\n",
              "      background-color: #E2EBFA;\n",
              "      box-shadow: 0px 1px 2px rgba(60, 64, 67, 0.3), 0px 1px 3px 1px rgba(60, 64, 67, 0.15);\n",
              "      fill: #174EA6;\n",
              "    }\n",
              "\n",
              "    [theme=dark] .colab-df-convert {\n",
              "      background-color: #3B4455;\n",
              "      fill: #D2E3FC;\n",
              "    }\n",
              "\n",
              "    [theme=dark] .colab-df-convert:hover {\n",
              "      background-color: #434B5C;\n",
              "      box-shadow: 0px 1px 3px 1px rgba(0, 0, 0, 0.15);\n",
              "      filter: drop-shadow(0px 1px 2px rgba(0, 0, 0, 0.3));\n",
              "      fill: #FFFFFF;\n",
              "    }\n",
              "  </style>\n",
              "\n",
              "      <script>\n",
              "        const buttonEl =\n",
              "          document.querySelector('#df-73467205-4d94-41e7-a4d5-89cd490f6dca button.colab-df-convert');\n",
              "        buttonEl.style.display =\n",
              "          google.colab.kernel.accessAllowed ? 'block' : 'none';\n",
              "\n",
              "        async function convertToInteractive(key) {\n",
              "          const element = document.querySelector('#df-73467205-4d94-41e7-a4d5-89cd490f6dca');\n",
              "          const dataTable =\n",
              "            await google.colab.kernel.invokeFunction('convertToInteractive',\n",
              "                                                     [key], {});\n",
              "          if (!dataTable) return;\n",
              "\n",
              "          const docLinkHtml = 'Like what you see? Visit the ' +\n",
              "            '<a target=\"_blank\" href=https://colab.research.google.com/notebooks/data_table.ipynb>data table notebook</a>'\n",
              "            + ' to learn more about interactive tables.';\n",
              "          element.innerHTML = '';\n",
              "          dataTable['output_type'] = 'display_data';\n",
              "          await google.colab.output.renderOutput(dataTable, element);\n",
              "          const docLink = document.createElement('div');\n",
              "          docLink.innerHTML = docLinkHtml;\n",
              "          element.appendChild(docLink);\n",
              "        }\n",
              "      </script>\n",
              "    </div>\n",
              "  </div>\n",
              "  "
            ],
            "text/plain": [
              "             cc_num    zip  is_fraud  distance   Age  category_food_dining  \\\n",
              "0  2703186189652095  28654         0  0.872830  31.0                     0   \n",
              "1      630423337322  99160         0  0.272310  41.0                     0   \n",
              "2    38859492057661  83252         0  0.975845  57.0                     0   \n",
              "\n",
              "   category_gas_transport  category_grocery_net  category_grocery_pos  \\\n",
              "0                       0                     0                     0   \n",
              "1                       0                     0                     1   \n",
              "2                       0                     0                     0   \n",
              "\n",
              "   category_health_fitness  ...  state_SD  state_TN  state_TX  state_UT  \\\n",
              "0                        0  ...         0         0         0         0   \n",
              "1                        0  ...         0         0         0         0   \n",
              "2                        0  ...         0         0         0         0   \n",
              "\n",
              "   state_VA  state_VT  state_WA  state_WI  state_WV  state_WY  \n",
              "0         0         0         0         0         0         0  \n",
              "1         0         0         1         0         0         0  \n",
              "2         0         0         0         0         0         0  \n",
              "\n",
              "[3 rows x 962 columns]"
            ]
          },
          "execution_count": 17,
          "metadata": {},
          "output_type": "execute_result"
        }
      ],
      "source": [
        "df_k.head(3)"
      ]
    },
    {
      "cell_type": "markdown",
      "metadata": {
        "id": "fH9tvaAWPsjm"
      },
      "source": [
        "### Check Target Balance to see how balanced my data is\n"
      ]
    },
    {
      "cell_type": "code",
      "execution_count": null,
      "metadata": {
        "colab": {
          "base_uri": "https://localhost:8080/"
        },
        "id": "1E4OLPWnwcvd",
        "outputId": "87015a0a-4f60-40c1-d50e-8d6e7ea32563"
      },
      "outputs": [
        {
          "name": "stdout",
          "output_type": "stream",
          "text": [
            "Examples:\n",
            "    Total: 1296675\n",
            "    Positive: 7506 (0.58% of total)\n",
            "\n"
          ]
        }
      ],
      "source": [
        "neg, pos = np.bincount(df_k['is_fraud'])\n",
        "total = neg + pos\n",
        "print('Examples:\\n    Total: {}\\n    Positive: {} ({:.2f}% of total)\\n'.format(\n",
        "    total, pos, 100 * pos / total))"
      ]
    },
    {
      "cell_type": "markdown",
      "metadata": {
        "id": "-jYRz9l7cD4z"
      },
      "source": [
        "### Spliting the data into test and train and into target and features"
      ]
    },
    {
      "cell_type": "code",
      "execution_count": null,
      "metadata": {
        "id": "AohmFqc-w6FZ"
      },
      "outputs": [],
      "source": [
        "train_df_k, test_df_k = train_test_split(df_k, test_size=0.2)\n",
        "\n",
        "# Form np arrays of labels and features.\n",
        "train_labels = np.array(train_df_k.pop('is_fraud'))\n",
        "test_labels = np.array(test_df_k.pop('is_fraud'))\n",
        "\n",
        "train_features = np.array(train_df_k)\n",
        "test_features = np.array(test_df_k)"
      ]
    },
    {
      "cell_type": "markdown",
      "metadata": {
        "id": "m1rXdPNHcf3c"
      },
      "source": [
        "### Checking the shape of my data"
      ]
    },
    {
      "cell_type": "code",
      "execution_count": null,
      "metadata": {
        "colab": {
          "base_uri": "https://localhost:8080/"
        },
        "id": "3hwJGD3wxiFA",
        "outputId": "7a6191e1-7e94-4b42-d7f6-c7265f9a9c7a"
      },
      "outputs": [
        {
          "name": "stdout",
          "output_type": "stream",
          "text": [
            "Training features shape: (1037340, 961)\n",
            "Training labels shape: (1037340,)\n",
            "Test features shape: (259335, 961)\n",
            "Test labels shape: (259335,)\n"
          ]
        }
      ],
      "source": [
        "print('Training features shape:', train_features.shape)\n",
        "print('Training labels shape:', train_labels.shape)\n",
        "print('Test features shape:', test_features.shape)\n",
        "print('Test labels shape:', test_labels.shape)"
      ]
    },
    {
      "cell_type": "markdown",
      "metadata": {
        "id": "Jv3KnOIXasKJ"
      },
      "source": [
        "### Running the Model with optimization paramenters to combat over fitting and improve accuracy\n",
        "\n",
        "\n"
      ]
    },
    {
      "cell_type": "code",
      "execution_count": null,
      "metadata": {
        "colab": {
          "base_uri": "https://localhost:8080/",
          "height": 978
        },
        "id": "iDq-pCORasKJ",
        "outputId": "da29f334-e869-4d18-c3ef-bbe8e832c114"
      },
      "outputs": [
        {
          "name": "stdout",
          "output_type": "stream",
          "text": [
            "Model: \"sequential_1\"\n",
            "_________________________________________________________________\n",
            " Layer (type)                Output Shape              Param #   \n",
            "=================================================================\n",
            " dense_2 (Dense)             (None, 100)               96200     \n",
            "                                                                 \n",
            " dropout_1 (Dropout)         (None, 100)               0         \n",
            "                                                                 \n",
            " dense_3 (Dense)             (None, 1)                 101       \n",
            "                                                                 \n",
            "=================================================================\n",
            "Total params: 96,301\n",
            "Trainable params: 96,301\n",
            "Non-trainable params: 0\n",
            "_________________________________________________________________\n",
            "Epoch 1/10\n",
            "12967/12967 [==============================] - 41s 3ms/step - loss: 14169191481344.0000 - accuracy: 0.9920 - precision: 0.0044 - recall: 0.0017 - auc: 0.5025 - prc: 0.0058 - val_loss: 0.0365 - val_accuracy: 0.9940 - val_precision: 0.0000e+00 - val_recall: 0.0000e+00 - val_auc: 0.5000 - val_prc: 0.0060\n",
            "Epoch 2/10\n",
            "12967/12967 [==============================] - 40s 3ms/step - loss: 0.0356 - accuracy: 0.9942 - precision: 0.0000e+00 - recall: 0.0000e+00 - auc: 0.5000 - prc: 0.0058 - val_loss: 0.0365 - val_accuracy: 0.9940 - val_precision: 0.0000e+00 - val_recall: 0.0000e+00 - val_auc: 0.5000 - val_prc: 0.0060\n",
            "Epoch 3/10\n",
            "12967/12967 [==============================] - 40s 3ms/step - loss: 0.0356 - accuracy: 0.9942 - precision: 0.0000e+00 - recall: 0.0000e+00 - auc: 0.5000 - prc: 0.0058 - val_loss: 0.0365 - val_accuracy: 0.9940 - val_precision: 0.0000e+00 - val_recall: 0.0000e+00 - val_auc: 0.5000 - val_prc: 0.0060\n",
            "Epoch 4/10\n",
            "12967/12967 [==============================] - 41s 3ms/step - loss: 0.0356 - accuracy: 0.9942 - precision: 0.0000e+00 - recall: 0.0000e+00 - auc: 0.5000 - prc: 0.0058 - val_loss: 0.0365 - val_accuracy: 0.9940 - val_precision: 0.0000e+00 - val_recall: 0.0000e+00 - val_auc: 0.5000 - val_prc: 0.0060\n",
            "Epoch 5/10\n",
            "12967/12967 [==============================] - 40s 3ms/step - loss: 0.0356 - accuracy: 0.9942 - precision: 0.0000e+00 - recall: 0.0000e+00 - auc: 0.5000 - prc: 0.0058 - val_loss: 0.0365 - val_accuracy: 0.9940 - val_precision: 0.0000e+00 - val_recall: 0.0000e+00 - val_auc: 0.5000 - val_prc: 0.0060\n",
            "Epoch 6/10\n",
            "12967/12967 [==============================] - 41s 3ms/step - loss: 0.0356 - accuracy: 0.9942 - precision: 0.0000e+00 - recall: 0.0000e+00 - auc: 0.5000 - prc: 0.0058 - val_loss: 0.0365 - val_accuracy: 0.9940 - val_precision: 0.0000e+00 - val_recall: 0.0000e+00 - val_auc: 0.5000 - val_prc: 0.0060\n",
            "Epoch 7/10\n",
            "12967/12967 [==============================] - 46s 4ms/step - loss: 0.0356 - accuracy: 0.9942 - precision: 0.0000e+00 - recall: 0.0000e+00 - auc: 0.5000 - prc: 0.0058 - val_loss: 0.0365 - val_accuracy: 0.9940 - val_precision: 0.0000e+00 - val_recall: 0.0000e+00 - val_auc: 0.5000 - val_prc: 0.0060\n",
            "Epoch 8/10\n",
            "12967/12967 [==============================] - 44s 3ms/step - loss: 0.0356 - accuracy: 0.9942 - precision: 0.0000e+00 - recall: 0.0000e+00 - auc: 0.5000 - prc: 0.0058 - val_loss: 0.0365 - val_accuracy: 0.9940 - val_precision: 0.0000e+00 - val_recall: 0.0000e+00 - val_auc: 0.5000 - val_prc: 0.0060\n",
            "Epoch 9/10\n",
            "12967/12967 [==============================] - 46s 4ms/step - loss: 0.0356 - accuracy: 0.9942 - precision: 0.0000e+00 - recall: 0.0000e+00 - auc: 0.5000 - prc: 0.0058 - val_loss: 0.0365 - val_accuracy: 0.9940 - val_precision: 0.0000e+00 - val_recall: 0.0000e+00 - val_auc: 0.5000 - val_prc: 0.0060\n",
            "Epoch 10/10\n",
            "12967/12967 [==============================] - 42s 3ms/step - loss: 0.0356 - accuracy: 0.9942 - precision: 0.0000e+00 - recall: 0.0000e+00 - auc: 0.5000 - prc: 0.0058 - val_loss: 0.0365 - val_accuracy: 0.9940 - val_precision: 0.0000e+00 - val_recall: 0.0000e+00 - val_auc: 0.5000 - val_prc: 0.0060\n",
            "8105/8105 [==============================] - 15s 2ms/step - loss: 0.0348 - accuracy: 0.9944 - precision: 0.0000e+00 - recall: 0.0000e+00 - auc: 0.5000 - prc: 0.0056\n",
            "[0.034797120839357376, 0.9943663477897644, 0.0, 0.0, 0.5, 0.005633640103042126]\n"
          ]
        },
        {
          "data": {
            "image/png": "[encoded data removed]",
            "text/plain": [
              "<Figure size 432x288 with 1 Axes>"
            ]
          },
          "metadata": {
            "needs_background": "light"
          },
          "output_type": "display_data"
        }
      ],
      "source": [
        "METRICS = [\n",
        "      #keras.metrics.TruePositives(name='tp'),\n",
        "      #keras.metrics.FalsePositives(name='fp'),\n",
        "      #keras.metrics.TrueNegatives(name='tn'),\n",
        "      #keras.metrics.FalseNegatives(name='fn'), \n",
        "      keras.metrics.BinaryAccuracy(name='accuracy'),\n",
        "      keras.metrics.Precision(name='precision'),\n",
        "      keras.metrics.Recall(name='recall'),\n",
        "      keras.metrics.AUC(name='auc'),\n",
        "      keras.metrics.AUC(name='prc', curve='PR'), # precision-recall curve\n",
        "]\n",
        "\n",
        "#def make_model(metrics=METRICS, output_bias=None):\n",
        "initial_bias = np.log([pos/neg])\n",
        "\n",
        "output_bias = tf.keras.initializers.Constant(initial_bias)\n",
        "model = keras.Sequential()\n",
        "model.add(keras.layers.Dense(100, activation='relu',input_shape=(train_features.shape[-1],)))\n",
        "model.add(keras.layers.Dropout(0.5))\n",
        "model.add(keras.layers.Dense(1, activation='sigmoid', bias_initializer=output_bias))\n",
        "model.summary()\n",
        "\n",
        "#model.compile(optimizer=keras.optimizers.Adam(learning_rate=1e-3),loss=keras.losses.BinaryCrossentropy(),metrics=metrics)\n",
        "model.compile(optimizer=\"adam\",loss=\"binary_crossentropy\",metrics=METRICS)\n",
        "#Fit\n",
        "hist_model = model.fit(\n",
        "  train_features,\n",
        "  train_labels,\n",
        "  epochs=10,\n",
        "  batch_size=64,\n",
        "  validation_split=0.2,\n",
        ")\n",
        "model.save(\"model.h5\")\n",
        "print(model.evaluate(test_features, test_labels))\n",
        "plot_loss(hist_model)\n"
      ]
    },
    {
      "cell_type": "code",
      "execution_count": null,
      "metadata": {
        "colab": {
          "base_uri": "https://localhost:8080/"
        },
        "id": "Y8tqgqq70sT6",
        "outputId": "da65462d-2d57-4cce-e247-34b564941bca"
      },
      "outputs": [
        {
          "data": {
            "text/plain": [
              "0.011349292426217154"
            ]
          },
          "execution_count": 31,
          "metadata": {},
          "output_type": "execute_result"
        }
      ],
      "source": [
        "#checking the absolute error of the model\n",
        "preds = model.predict(test_features)\n",
        "\n",
        "mean_absolute_error(test_labels, preds)"
      ]
    },
    {
      "cell_type": "markdown",
      "metadata": {
        "id": "IRWtd7XzoUiW"
      },
      "source": [
        "### Please see \"predictions.ipynb\" file for Predictions using the model"
      ]
    }
  ],
  "metadata": {
    "accelerator": "TPU",
    "colab": {
      "collapsed_sections": [],
      "machine_shape": "hm",
      "name": "asn4_start_point.ipynb",
      "provenance": []
    },
    "interpreter": {
      "hash": "4d722d3adfa415172c1f5238b519fb86b488acdae450fd691ab06c09f4ca9173"
    },
    "kernelspec": {
      "display_name": "Python 3.9.7 ('ml3950')",
      "language": "python",
      "name": "python3"
    },
    "language_info": {
      "codemirror_mode": {
        "name": "ipython",
        "version": 3
      },
      "file_extension": ".py",
      "mimetype": "text/x-python",
      "name": "python",
      "nbconvert_exporter": "python",
      "pygments_lexer": "ipython3",
      "version": "3.9.7"
    },
    "orig_nbformat": 4
  },
  "nbformat": 4,
  "nbformat_minor": 0
}
