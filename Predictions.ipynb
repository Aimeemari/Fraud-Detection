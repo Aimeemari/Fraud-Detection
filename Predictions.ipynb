{
  "cells": [
    {
      "cell_type": "markdown",
      "source": [
        "Download necessary Libraries"
      ],
      "metadata": {
        "id": "REWMU4P9span"
      }
    },
    {
      "cell_type": "code",
      "source": [
        "import numpy as np\n",
        "import pandas as pd\n",
        "import tensorflow as tf\n",
        "import seaborn as sns\n",
        "import matplotlib as mpl\n",
        "import matplotlib.pyplot as plt\n",
        "import keras \n",
        "from keras.models import Sequential\n",
        "from keras.layers import Dense, Dropout\n",
        "from keras.utils import np_utils\n",
        "from datetime import datetime\n",
        "from sklearn.model_selection import train_test_split\n",
        "from imblearn.datasets import make_imbalance\n",
        "from imblearn.over_sampling import SMOTE\n",
        "from sklearn.preprocessing import StandardScaler\n",
        "from sklearn.pipeline import Pipeline\n",
        "from sklearn.preprocessing import OneHotEncoder\n",
        "from sklearn.compose import ColumnTransformer\n",
        "from sklearn.impute import SimpleImputer\n",
        "from sklearn.preprocessing import MinMaxScaler\n",
        "import io\n",
        "import os\n",
        "from numpy import loadtxt\n",
        "from keras.models import load_model\n",
        "from sklearn.metrics import mean_absolute_error"
      ],
      "metadata": {
        "id": "bzUR3V1utQU6"
      },
      "execution_count": 5,
      "outputs": []
    },
    {
      "cell_type": "code",
      "source": [
        "# Helper to plot loss\n",
        "def plot_loss(history):\n",
        "  plt.plot(history.history['loss'], label='loss')\n",
        "  plt.plot(history.history['val_loss'], label='val_loss')\n",
        "  plt.legend()\n",
        "  plt.grid(True)"
      ],
      "metadata": {
        "id": "kbtR8i3Ktbbh"
      },
      "execution_count": 1,
      "outputs": []
    },
    {
      "cell_type": "markdown",
      "source": [
        "### Load Model into notebook"
      ],
      "metadata": {
        "id": "2c44BhjytGjT"
      }
    },
    {
      "cell_type": "code",
      "source": [
        "model = keras.models.load_model('model.h5')"
      ],
      "metadata": {
        "id": "PLNux5p0sx8R"
      },
      "execution_count": 4,
      "outputs": []
    },
    {
      "cell_type": "markdown",
      "source": [
        "### Passing your data to the function and running the prediction"
      ],
      "metadata": {
        "id": "zNWnAXOHt8ap"
      }
    },
    {
      "cell_type": "code",
      "source": [
        "preds = model.predict(\"your test data\")\n"
      ],
      "metadata": {
        "id": "xdSyWQnZuK9X"
      },
      "execution_count": null,
      "outputs": []
    },
    {
      "cell_type": "markdown",
      "source": [
        "### Check for Error of your prediction"
      ],
      "metadata": {
        "id": "Pu_H7It32yki"
      }
    },
    {
      "cell_type": "code",
      "source": [
        "mean_absolute_error(test_labels, preds)"
      ],
      "metadata": {
        "id": "Gt_lBzx724hi"
      },
      "execution_count": null,
      "outputs": []
    }
  ],
  "metadata": {
    "colab": {
      "collapsed_sections": [],
      "name": "Prediction_asn4_start_point.ipynb",
      "provenance": []
    },
    "kernelspec": {
      "display_name": "Python 3",
      "name": "python3"
    }
  },
  "nbformat": 4,
  "nbformat_minor": 0
}